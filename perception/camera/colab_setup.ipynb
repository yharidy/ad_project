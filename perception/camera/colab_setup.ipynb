{
 "cells": [
  {
   "cell_type": "code",
   "execution_count": null,
   "id": "7a9cdd08",
   "metadata": {},
   "outputs": [],
   "source": [
    "# Clone your repo and install dependencies\n",
    "!git clone https://github.com/your-username/autonomous-driving-stack.git\n",
    "%cd autonomous-driving-stack/camera_perception\n",
    "\n",
    "# Install all dependencies\n",
    "!pip install -r requirements-colab.txt\n",
    "!pip install mmcv-full ...  # etc.\n",
    "\n",
    "# Run the inference script\n",
    "!python inference/run_bevformer.py"
   ]
  }
 ],
 "metadata": {
  "language_info": {
   "name": "python"
  }
 },
 "nbformat": 4,
 "nbformat_minor": 5
}
