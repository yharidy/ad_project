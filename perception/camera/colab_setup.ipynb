{
 "cells": [
  {
   "cell_type": "code",
   "execution_count": null,
   "id": "7a9cdd08",
   "metadata": {},
   "outputs": [],
   "source": [
    "!git clone https://github.com/yharidy/ad_project.git\n",
    "%cd ad_project"
   ]
  },
  {
   "cell_type": "code",
   "execution_count": null,
   "id": "56ce861a",
   "metadata": {},
   "outputs": [],
   "source": [
    "!pip install -r requirements-colab.txt"
   ]
  },
  {
   "cell_type": "code",
   "execution_count": null,
   "id": "c983bc6f",
   "metadata": {},
   "outputs": [],
   "source": [
    "import os\n",
    "import urllib.request\n",
    "\n",
    "checkpoint_url = \"https://download.openmmlab.com/mmdetection3d/bevformer/bevformer_base_epoch_24.pth\"\n",
    "checkpoint_path = \"camera_perception/checkpoints/bevformer_r50_epoch_24.pth\"\n",
    "\n",
    "os.makedirs(os.path.dirname(checkpoint_path), exist_ok=True)\n",
    "\n",
    "if not os.path.exists(checkpoint_path):\n",
    "    print(\"Downloading checkpoint...\")\n",
    "    urllib.request.urlretrieve(checkpoint_url, checkpoint_path)\n",
    "else:\n",
    "    print(\"Checkpoint already exists.\")"
   ]
  },
  {
   "cell_type": "code",
   "execution_count": null,
   "id": "77c629cd",
   "metadata": {},
   "outputs": [],
   "source": [
    "import os\n",
    "import urllib.request\n",
    "\n",
    "sample_dir = \"samples/scene-0001\"\n",
    "os.makedirs(sample_dir, exist_ok=True)\n",
    "\n",
    "urls = [\n",
    "    \"https://upload.wikimedia.org/wikipedia/commons/thumb/1/1b/Autonomous_car_test_drive_on_open_road.jpg/640px-Autonomous_car_test_drive_on_open_road.jpg\",\n",
    "    \"https://upload.wikimedia.org/wikipedia/commons/thumb/e/ef/Waymo_Chrysler_Pacifica_Hybrid_Test_Vehicle.jpg/640px-Waymo_Chrysler_Pacifica_Hybrid_Test_Vehicle.jpg\",\n",
    "    \"https://upload.wikimedia.org/wikipedia/commons/thumb/e/e9/Highway_401_westbound_express.jpg/640px-Highway_401_westbound_express.jpg\"\n",
    "]\n",
    "\n",
    "for i, url in enumerate(urls):\n",
    "    path = os.path.join(sample_dir, f\"{i:06d}.jpg\")\n",
    "    urllib.request.urlretrieve(url, path)"
   ]
  },
  {
   "cell_type": "code",
   "execution_count": null,
   "id": "89b5bb1b",
   "metadata": {},
   "outputs": [],
   "source": [
    "!python camera_perception/infer.py \\\n",
    "  --input-dir samples/scene-0001 \\\n",
    "  --output_dir outputs/scene-0001 \\\n",
    "  --cfg camera_perception/configs/bevformer_r50.py \\\n",
    "  --ckpt camera_perception/checkpoints/bevformer_r50_epoch_24.pth"
   ]
  },
  {
   "cell_type": "code",
   "execution_count": null,
   "id": "820cb4bf",
   "metadata": {},
   "outputs": [],
   "source": [
    "import matplotlib.pyplot as plt\n",
    "import glob\n",
    "from PIL import Image\n",
    "\n",
    "output_images = sorted(glob.glob(\"outputs/scene-0001/*.jpg\"))\n",
    "\n",
    "plt.figure(figsize=(16, 6))\n",
    "for i, path in enumerate(output_images):\n",
    "    img = Image.open(path)\n",
    "    plt.subplot(1, len(output_images), i+1)\n",
    "    plt.imshow(img)\n",
    "    plt.axis('off')\n",
    "plt.tight_layout()\n",
    "plt.show()"
   ]
  }
 ],
 "metadata": {
  "language_info": {
   "name": "python"
  }
 },
 "nbformat": 4,
 "nbformat_minor": 5
}
